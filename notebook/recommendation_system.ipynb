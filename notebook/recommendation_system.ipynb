{
 "cells": [
  {
   "cell_type": "code",
   "execution_count": 1,
   "id": "f3757b56-211a-48b1-a4ca-891cc3c66047",
   "metadata": {},
   "outputs": [
    {
     "name": "stdout",
     "output_type": "stream",
     "text": [
      "Requirement already satisfied: textblob in /Users/thanay/Documents/Academic/umassd/coursework/semester/3/CIS530_ADM/Project/venv/lib/python3.9/site-packages (0.17.1)\r\n",
      "Requirement already satisfied: nltk>=3.1 in /Users/thanay/Documents/Academic/umassd/coursework/semester/3/CIS530_ADM/Project/venv/lib/python3.9/site-packages (from textblob) (3.8.1)\r\n",
      "Requirement already satisfied: tqdm in /Users/thanay/Documents/Academic/umassd/coursework/semester/3/CIS530_ADM/Project/venv/lib/python3.9/site-packages (from nltk>=3.1->textblob) (4.66.1)\r\n",
      "Requirement already satisfied: joblib in /Users/thanay/Documents/Academic/umassd/coursework/semester/3/CIS530_ADM/Project/venv/lib/python3.9/site-packages (from nltk>=3.1->textblob) (1.3.2)\r\n",
      "Requirement already satisfied: click in /Users/thanay/Documents/Academic/umassd/coursework/semester/3/CIS530_ADM/Project/venv/lib/python3.9/site-packages (from nltk>=3.1->textblob) (8.1.7)\r\n",
      "Requirement already satisfied: regex>=2021.8.3 in /Users/thanay/Documents/Academic/umassd/coursework/semester/3/CIS530_ADM/Project/venv/lib/python3.9/site-packages (from nltk>=3.1->textblob) (2023.10.3)\r\n",
      "\r\n",
      "\u001B[1m[\u001B[0m\u001B[34;49mnotice\u001B[0m\u001B[1;39;49m]\u001B[0m\u001B[39;49m A new release of pip is available: \u001B[0m\u001B[31;49m23.0.1\u001B[0m\u001B[39;49m -> \u001B[0m\u001B[32;49m23.3.1\u001B[0m\r\n",
      "\u001B[1m[\u001B[0m\u001B[34;49mnotice\u001B[0m\u001B[1;39;49m]\u001B[0m\u001B[39;49m To update, run: \u001B[0m\u001B[32;49mpip install --upgrade pip\u001B[0m\r\n"
     ]
    }
   ],
   "source": [
    "!pip install textblob"
   ]
  },
  {
   "cell_type": "code",
   "execution_count": 2,
   "id": "a419f50d-ff24-484f-b719-e9ce9aba7e40",
   "metadata": {},
   "outputs": [],
   "source": [
    "# Import library\n",
    "import pandas as pd\n",
    "from sklearn.metrics.pairwise import cosine_similarity\n",
    "from sklearn.preprocessing import MinMaxScaler\n",
    "from sklearn.feature_extraction.text import TfidfVectorizer\n",
    "from textblob import TextBlob\n",
    "import re"
   ]
  },
  {
   "cell_type": "code",
   "execution_count": 4,
   "id": "8972372e-3cff-4cd0-b464-a7dc93649a9f",
   "metadata": {},
   "outputs": [
    {
     "name": "stdout",
     "output_type": "stream",
     "text": [
      "Index(['Unnamed: 0.1', 'Unnamed: 0', 'pos', 'artist_name', 'track_uri',\n",
      "       'artist_uri', 'track_name', 'album_uri', 'duration_ms_x', 'album_name',\n",
      "       'name', 'danceability', 'energy', 'key', 'loudness', 'mode',\n",
      "       'speechiness', 'acousticness', 'instrumentalness', 'liveness',\n",
      "       'valence', 'tempo', 'type', 'id', 'uri', 'track_href', 'analysis_url',\n",
      "       'duration_ms_y', 'time_signature', 'artist_pop', 'genres', 'track_pop'],\n",
      "      dtype='object')\n"
     ]
    },
    {
     "data": {
      "text/plain": "   pos    artist_name               track_uri  \\\n0    0         WILDES  3uvsVUrAaGQJCTEUR1S3Sx   \n1    1           MIIA  0heE5tAAaDQmnGhVDImPl2   \n2    2  Cold War Kids  3omXshBamrREltcf24gYDC   \n3   12  Cold War Kids  3omXshBamrREltcf24gYDC   \n4    8  Cold War Kids  3omXshBamrREltcf24gYDC   \n\n                              artist_uri track_name  \\\n0  spotify:artist:0ypTT9UqAU5sZpPo5JZmjR       Bare   \n1  spotify:artist:0h3YCmvRJ2jqt4jFiR6nGL    Dynasty   \n2  spotify:artist:6VDdCwrBM4qQaGxoAyxyJC      First   \n3  spotify:artist:6VDdCwrBM4qQaGxoAyxyJC      First   \n4  spotify:artist:6VDdCwrBM4qQaGxoAyxyJC      First   \n\n                              album_uri  duration_ms_x    album_name  \\\n0  spotify:album:2kIoMj5Ht14l2PnNRa2abC         242060          Bare   \n1  spotify:album:3g7TTE6375PGIBsM9Tlk9I         225515       Dynasty   \n2  spotify:album:2H09itV5a5yUcGyk9u9HwY         200360  Hold My Home   \n3  spotify:album:2H09itV5a5yUcGyk9u9HwY         200360  Hold My Home   \n4  spotify:album:2H09itV5a5yUcGyk9u9HwY         200360  Hold My Home   \n\n         name  danceability  ...            type                      id  \\\n0      NewNew         0.523  ...  audio_features  3uvsVUrAaGQJCTEUR1S3Sx   \n1      NewNew         0.493  ...  audio_features  0heE5tAAaDQmnGhVDImPl2   \n2      NewNew         0.468  ...  audio_features  3omXshBamrREltcf24gYDC   \n3        Yass         0.468  ...  audio_features  3omXshBamrREltcf24gYDC   \n4  Summer '17         0.468  ...  audio_features  3omXshBamrREltcf24gYDC   \n\n                                    uri  \\\n0  spotify:track:3uvsVUrAaGQJCTEUR1S3Sx   \n1  spotify:track:0heE5tAAaDQmnGhVDImPl2   \n2  spotify:track:3omXshBamrREltcf24gYDC   \n3  spotify:track:3omXshBamrREltcf24gYDC   \n4  spotify:track:3omXshBamrREltcf24gYDC   \n\n                                          track_href  \\\n0  https://api.spotify.com/v1/tracks/3uvsVUrAaGQJ...   \n1  https://api.spotify.com/v1/tracks/0heE5tAAaDQm...   \n2  https://api.spotify.com/v1/tracks/3omXshBamrRE...   \n3  https://api.spotify.com/v1/tracks/3omXshBamrRE...   \n4  https://api.spotify.com/v1/tracks/3omXshBamrRE...   \n\n                                        analysis_url  duration_ms_y  \\\n0  https://api.spotify.com/v1/audio-analysis/3uvs...         242060   \n1  https://api.spotify.com/v1/audio-analysis/0heE...         225515   \n2  https://api.spotify.com/v1/audio-analysis/3omX...         200360   \n3  https://api.spotify.com/v1/audio-analysis/3omX...         200360   \n4  https://api.spotify.com/v1/audio-analysis/3omX...         200360   \n\n   time_signature  artist_pop  \\\n0               4          32   \n1               4          51   \n2               4          58   \n3               4          58   \n4               4          58   \n\n                                              genres  track_pop  \n0                          british_singer-songwriter          0  \n1                                      norwegian_pop         65  \n2  indie_rock modern_alternative_rock modern_rock...         71  \n3  indie_rock modern_alternative_rock modern_rock...         71  \n4  indie_rock modern_alternative_rock modern_rock...         71  \n\n[5 rows x 30 columns]",
      "text/html": "<div>\n<style scoped>\n    .dataframe tbody tr th:only-of-type {\n        vertical-align: middle;\n    }\n\n    .dataframe tbody tr th {\n        vertical-align: top;\n    }\n\n    .dataframe thead th {\n        text-align: right;\n    }\n</style>\n<table border=\"1\" class=\"dataframe\">\n  <thead>\n    <tr style=\"text-align: right;\">\n      <th></th>\n      <th>pos</th>\n      <th>artist_name</th>\n      <th>track_uri</th>\n      <th>artist_uri</th>\n      <th>track_name</th>\n      <th>album_uri</th>\n      <th>duration_ms_x</th>\n      <th>album_name</th>\n      <th>name</th>\n      <th>danceability</th>\n      <th>...</th>\n      <th>type</th>\n      <th>id</th>\n      <th>uri</th>\n      <th>track_href</th>\n      <th>analysis_url</th>\n      <th>duration_ms_y</th>\n      <th>time_signature</th>\n      <th>artist_pop</th>\n      <th>genres</th>\n      <th>track_pop</th>\n    </tr>\n  </thead>\n  <tbody>\n    <tr>\n      <th>0</th>\n      <td>0</td>\n      <td>WILDES</td>\n      <td>3uvsVUrAaGQJCTEUR1S3Sx</td>\n      <td>spotify:artist:0ypTT9UqAU5sZpPo5JZmjR</td>\n      <td>Bare</td>\n      <td>spotify:album:2kIoMj5Ht14l2PnNRa2abC</td>\n      <td>242060</td>\n      <td>Bare</td>\n      <td>NewNew</td>\n      <td>0.523</td>\n      <td>...</td>\n      <td>audio_features</td>\n      <td>3uvsVUrAaGQJCTEUR1S3Sx</td>\n      <td>spotify:track:3uvsVUrAaGQJCTEUR1S3Sx</td>\n      <td>https://api.spotify.com/v1/tracks/3uvsVUrAaGQJ...</td>\n      <td>https://api.spotify.com/v1/audio-analysis/3uvs...</td>\n      <td>242060</td>\n      <td>4</td>\n      <td>32</td>\n      <td>british_singer-songwriter</td>\n      <td>0</td>\n    </tr>\n    <tr>\n      <th>1</th>\n      <td>1</td>\n      <td>MIIA</td>\n      <td>0heE5tAAaDQmnGhVDImPl2</td>\n      <td>spotify:artist:0h3YCmvRJ2jqt4jFiR6nGL</td>\n      <td>Dynasty</td>\n      <td>spotify:album:3g7TTE6375PGIBsM9Tlk9I</td>\n      <td>225515</td>\n      <td>Dynasty</td>\n      <td>NewNew</td>\n      <td>0.493</td>\n      <td>...</td>\n      <td>audio_features</td>\n      <td>0heE5tAAaDQmnGhVDImPl2</td>\n      <td>spotify:track:0heE5tAAaDQmnGhVDImPl2</td>\n      <td>https://api.spotify.com/v1/tracks/0heE5tAAaDQm...</td>\n      <td>https://api.spotify.com/v1/audio-analysis/0heE...</td>\n      <td>225515</td>\n      <td>4</td>\n      <td>51</td>\n      <td>norwegian_pop</td>\n      <td>65</td>\n    </tr>\n    <tr>\n      <th>2</th>\n      <td>2</td>\n      <td>Cold War Kids</td>\n      <td>3omXshBamrREltcf24gYDC</td>\n      <td>spotify:artist:6VDdCwrBM4qQaGxoAyxyJC</td>\n      <td>First</td>\n      <td>spotify:album:2H09itV5a5yUcGyk9u9HwY</td>\n      <td>200360</td>\n      <td>Hold My Home</td>\n      <td>NewNew</td>\n      <td>0.468</td>\n      <td>...</td>\n      <td>audio_features</td>\n      <td>3omXshBamrREltcf24gYDC</td>\n      <td>spotify:track:3omXshBamrREltcf24gYDC</td>\n      <td>https://api.spotify.com/v1/tracks/3omXshBamrRE...</td>\n      <td>https://api.spotify.com/v1/audio-analysis/3omX...</td>\n      <td>200360</td>\n      <td>4</td>\n      <td>58</td>\n      <td>indie_rock modern_alternative_rock modern_rock...</td>\n      <td>71</td>\n    </tr>\n    <tr>\n      <th>3</th>\n      <td>12</td>\n      <td>Cold War Kids</td>\n      <td>3omXshBamrREltcf24gYDC</td>\n      <td>spotify:artist:6VDdCwrBM4qQaGxoAyxyJC</td>\n      <td>First</td>\n      <td>spotify:album:2H09itV5a5yUcGyk9u9HwY</td>\n      <td>200360</td>\n      <td>Hold My Home</td>\n      <td>Yass</td>\n      <td>0.468</td>\n      <td>...</td>\n      <td>audio_features</td>\n      <td>3omXshBamrREltcf24gYDC</td>\n      <td>spotify:track:3omXshBamrREltcf24gYDC</td>\n      <td>https://api.spotify.com/v1/tracks/3omXshBamrRE...</td>\n      <td>https://api.spotify.com/v1/audio-analysis/3omX...</td>\n      <td>200360</td>\n      <td>4</td>\n      <td>58</td>\n      <td>indie_rock modern_alternative_rock modern_rock...</td>\n      <td>71</td>\n    </tr>\n    <tr>\n      <th>4</th>\n      <td>8</td>\n      <td>Cold War Kids</td>\n      <td>3omXshBamrREltcf24gYDC</td>\n      <td>spotify:artist:6VDdCwrBM4qQaGxoAyxyJC</td>\n      <td>First</td>\n      <td>spotify:album:2H09itV5a5yUcGyk9u9HwY</td>\n      <td>200360</td>\n      <td>Hold My Home</td>\n      <td>Summer '17</td>\n      <td>0.468</td>\n      <td>...</td>\n      <td>audio_features</td>\n      <td>3omXshBamrREltcf24gYDC</td>\n      <td>spotify:track:3omXshBamrREltcf24gYDC</td>\n      <td>https://api.spotify.com/v1/tracks/3omXshBamrRE...</td>\n      <td>https://api.spotify.com/v1/audio-analysis/3omX...</td>\n      <td>200360</td>\n      <td>4</td>\n      <td>58</td>\n      <td>indie_rock modern_alternative_rock modern_rock...</td>\n      <td>71</td>\n    </tr>\n  </tbody>\n</table>\n<p>5 rows × 30 columns</p>\n</div>"
     },
     "execution_count": 4,
     "metadata": {},
     "output_type": "execute_result"
    }
   ],
   "source": [
    "# Import processed data\n",
    "playlistDF = pd.read_csv(\"./processed_data.csv\")\n",
    "print(playlistDF.columns)\n",
    "playlistDF.drop(columns=[\"Unnamed: 0\",'Unnamed: 0.1'], inplace = True)\n",
    "playlistDF.head()"
   ]
  },
  {
   "cell_type": "code",
   "execution_count": 5,
   "id": "e8ae41fd-b885-4c6f-aca8-bc12d70b69eb",
   "metadata": {},
   "outputs": [
    {
     "data": {
      "text/plain": "           artist_name                                         track_name  \\\n0               WILDES                                               Bare   \n1                 MIIA                                            Dynasty   \n2        Cold War Kids                                              First   \n3        Cold War Kids                                              First   \n4        Cold War Kids                                              First   \n...                ...                                                ...   \n68082  Cheers Elephant                                            Peoples   \n68083      Disco Fries                             The Light - Radio Edit   \n68084          Tove Lo                                     Scream My Name   \n68085   Ellie Goulding  Goodness Gracious - The Chainsmokers Extended ...   \n68086           Alesso                                               Cool   \n\n             name  \n0          NewNew  \n1          NewNew  \n2          NewNew  \n3            Yass  \n4      Summer '17  \n...           ...  \n68082         Lab  \n68083      TENnis  \n68084      TENnis  \n68085      TENnis  \n68086      TENnis  \n\n[68087 rows x 3 columns]",
      "text/html": "<div>\n<style scoped>\n    .dataframe tbody tr th:only-of-type {\n        vertical-align: middle;\n    }\n\n    .dataframe tbody tr th {\n        vertical-align: top;\n    }\n\n    .dataframe thead th {\n        text-align: right;\n    }\n</style>\n<table border=\"1\" class=\"dataframe\">\n  <thead>\n    <tr style=\"text-align: right;\">\n      <th></th>\n      <th>artist_name</th>\n      <th>track_name</th>\n      <th>name</th>\n    </tr>\n  </thead>\n  <tbody>\n    <tr>\n      <th>0</th>\n      <td>WILDES</td>\n      <td>Bare</td>\n      <td>NewNew</td>\n    </tr>\n    <tr>\n      <th>1</th>\n      <td>MIIA</td>\n      <td>Dynasty</td>\n      <td>NewNew</td>\n    </tr>\n    <tr>\n      <th>2</th>\n      <td>Cold War Kids</td>\n      <td>First</td>\n      <td>NewNew</td>\n    </tr>\n    <tr>\n      <th>3</th>\n      <td>Cold War Kids</td>\n      <td>First</td>\n      <td>Yass</td>\n    </tr>\n    <tr>\n      <th>4</th>\n      <td>Cold War Kids</td>\n      <td>First</td>\n      <td>Summer '17</td>\n    </tr>\n    <tr>\n      <th>...</th>\n      <td>...</td>\n      <td>...</td>\n      <td>...</td>\n    </tr>\n    <tr>\n      <th>68082</th>\n      <td>Cheers Elephant</td>\n      <td>Peoples</td>\n      <td>Lab</td>\n    </tr>\n    <tr>\n      <th>68083</th>\n      <td>Disco Fries</td>\n      <td>The Light - Radio Edit</td>\n      <td>TENnis</td>\n    </tr>\n    <tr>\n      <th>68084</th>\n      <td>Tove Lo</td>\n      <td>Scream My Name</td>\n      <td>TENnis</td>\n    </tr>\n    <tr>\n      <th>68085</th>\n      <td>Ellie Goulding</td>\n      <td>Goodness Gracious - The Chainsmokers Extended ...</td>\n      <td>TENnis</td>\n    </tr>\n    <tr>\n      <th>68086</th>\n      <td>Alesso</td>\n      <td>Cool</td>\n      <td>TENnis</td>\n    </tr>\n  </tbody>\n</table>\n<p>68087 rows × 3 columns</p>\n</div>"
     },
     "execution_count": 5,
     "metadata": {},
     "output_type": "execute_result"
    }
   ],
   "source": [
    "playlistDF[['artist_name','track_name','name']]"
   ]
  },
  {
   "cell_type": "code",
   "execution_count": 6,
   "id": "4c9ff070-9a18-49f0-9a46-54758f96857f",
   "metadata": {},
   "outputs": [
    {
     "name": "stdout",
     "output_type": "stream",
     "text": [
      "Are all songs unique:  True\n"
     ]
    }
   ],
   "source": [
    "# Drop song duplicates\n",
    "def drop_duplicates(df):\n",
    "    '''\n",
    "    Drop duplicate songs\n",
    "    '''\n",
    "    df['artists_song'] = df.apply(lambda row: row['artist_name']+row['track_name'],axis = 1)\n",
    "    return df.drop_duplicates('artists_song')\n",
    "\n",
    "songDF = drop_duplicates(playlistDF)\n",
    "print(\"Are all songs unique: \",len(pd.unique(songDF.artists_song))==len(songDF))\n"
   ]
  },
  {
   "cell_type": "code",
   "execution_count": 7,
   "id": "3c697ee9-fa2e-4632-89a8-ec48068f932c",
   "metadata": {},
   "outputs": [
    {
     "data": {
      "text/plain": "      artist_name                      id track_name  danceability  energy  \\\n0          WILDES  3uvsVUrAaGQJCTEUR1S3Sx       Bare         0.523   0.422   \n1            MIIA  0heE5tAAaDQmnGhVDImPl2    Dynasty         0.493   0.594   \n2   Cold War Kids  3omXshBamrREltcf24gYDC      First         0.468   0.692   \n18    Violet Days  6TYWE19e35N7Bn5heHwyY6  Your Girl         0.553   0.564   \n20          Drake  1xznGGDReH1oQq0xzbwXa3  One Dance         0.791   0.619   \n\n    key  loudness  mode  speechiness  acousticness  instrumentalness  \\\n0     3   -10.385     0       0.0270       0.78300          0.005140   \n1     8    -4.404     0       0.0378       0.25600          0.000000   \n2     2    -4.015     1       0.0295       0.02020          0.000002   \n18    9    -7.072     0       0.0418       0.03900          0.000000   \n20    1    -5.886     1       0.0532       0.00784          0.004230   \n\n    liveness  valence    tempo  artist_pop  \\\n0     0.0898    0.145  129.876          32   \n1     0.0759    0.304  123.751          51   \n2     0.5230    0.561   78.009          58   \n18    0.3180    0.310  149.953          55   \n20    0.3510    0.371  103.989          95   \n\n                                               genres  track_pop  \n0                           british_singer-songwriter          0  \n1                                       norwegian_pop         65  \n2   indie_rock modern_alternative_rock modern_rock...         71  \n18                                   indie_electropop         32  \n20  canadian_hip_hop canadian_pop hip_hop pop_rap rap         40  ",
      "text/html": "<div>\n<style scoped>\n    .dataframe tbody tr th:only-of-type {\n        vertical-align: middle;\n    }\n\n    .dataframe tbody tr th {\n        vertical-align: top;\n    }\n\n    .dataframe thead th {\n        text-align: right;\n    }\n</style>\n<table border=\"1\" class=\"dataframe\">\n  <thead>\n    <tr style=\"text-align: right;\">\n      <th></th>\n      <th>artist_name</th>\n      <th>id</th>\n      <th>track_name</th>\n      <th>danceability</th>\n      <th>energy</th>\n      <th>key</th>\n      <th>loudness</th>\n      <th>mode</th>\n      <th>speechiness</th>\n      <th>acousticness</th>\n      <th>instrumentalness</th>\n      <th>liveness</th>\n      <th>valence</th>\n      <th>tempo</th>\n      <th>artist_pop</th>\n      <th>genres</th>\n      <th>track_pop</th>\n    </tr>\n  </thead>\n  <tbody>\n    <tr>\n      <th>0</th>\n      <td>WILDES</td>\n      <td>3uvsVUrAaGQJCTEUR1S3Sx</td>\n      <td>Bare</td>\n      <td>0.523</td>\n      <td>0.422</td>\n      <td>3</td>\n      <td>-10.385</td>\n      <td>0</td>\n      <td>0.0270</td>\n      <td>0.78300</td>\n      <td>0.005140</td>\n      <td>0.0898</td>\n      <td>0.145</td>\n      <td>129.876</td>\n      <td>32</td>\n      <td>british_singer-songwriter</td>\n      <td>0</td>\n    </tr>\n    <tr>\n      <th>1</th>\n      <td>MIIA</td>\n      <td>0heE5tAAaDQmnGhVDImPl2</td>\n      <td>Dynasty</td>\n      <td>0.493</td>\n      <td>0.594</td>\n      <td>8</td>\n      <td>-4.404</td>\n      <td>0</td>\n      <td>0.0378</td>\n      <td>0.25600</td>\n      <td>0.000000</td>\n      <td>0.0759</td>\n      <td>0.304</td>\n      <td>123.751</td>\n      <td>51</td>\n      <td>norwegian_pop</td>\n      <td>65</td>\n    </tr>\n    <tr>\n      <th>2</th>\n      <td>Cold War Kids</td>\n      <td>3omXshBamrREltcf24gYDC</td>\n      <td>First</td>\n      <td>0.468</td>\n      <td>0.692</td>\n      <td>2</td>\n      <td>-4.015</td>\n      <td>1</td>\n      <td>0.0295</td>\n      <td>0.02020</td>\n      <td>0.000002</td>\n      <td>0.5230</td>\n      <td>0.561</td>\n      <td>78.009</td>\n      <td>58</td>\n      <td>indie_rock modern_alternative_rock modern_rock...</td>\n      <td>71</td>\n    </tr>\n    <tr>\n      <th>18</th>\n      <td>Violet Days</td>\n      <td>6TYWE19e35N7Bn5heHwyY6</td>\n      <td>Your Girl</td>\n      <td>0.553</td>\n      <td>0.564</td>\n      <td>9</td>\n      <td>-7.072</td>\n      <td>0</td>\n      <td>0.0418</td>\n      <td>0.03900</td>\n      <td>0.000000</td>\n      <td>0.3180</td>\n      <td>0.310</td>\n      <td>149.953</td>\n      <td>55</td>\n      <td>indie_electropop</td>\n      <td>32</td>\n    </tr>\n    <tr>\n      <th>20</th>\n      <td>Drake</td>\n      <td>1xznGGDReH1oQq0xzbwXa3</td>\n      <td>One Dance</td>\n      <td>0.791</td>\n      <td>0.619</td>\n      <td>1</td>\n      <td>-5.886</td>\n      <td>1</td>\n      <td>0.0532</td>\n      <td>0.00784</td>\n      <td>0.004230</td>\n      <td>0.3510</td>\n      <td>0.371</td>\n      <td>103.989</td>\n      <td>95</td>\n      <td>canadian_hip_hop canadian_pop hip_hop pop_rap rap</td>\n      <td>40</td>\n    </tr>\n  </tbody>\n</table>\n</div>"
     },
     "execution_count": 7,
     "metadata": {},
     "output_type": "execute_result"
    }
   ],
   "source": [
    "# Select useful columns\n",
    "def select_cols(df):\n",
    "       '''\n",
    "       Select useful columns\n",
    "       '''\n",
    "       return df[['artist_name','id','track_name','danceability', 'energy', 'key', 'loudness', 'mode',\n",
    "       'speechiness', 'acousticness', 'instrumentalness', 'liveness', 'valence', 'tempo', \"artist_pop\", \"genres\", \"track_pop\"]]\n",
    "songDF = select_cols(songDF)\n",
    "songDF.head()\n"
   ]
  },
  {
   "cell_type": "code",
   "execution_count": 8,
   "id": "37ff6282-933d-4bf2-a143-9688172c5445",
   "metadata": {},
   "outputs": [
    {
     "data": {
      "text/plain": "0                           [british_singer-songwriter]\n1                                       [norwegian_pop]\n2     [indie_rock, modern_alternative_rock, modern_r...\n18                                   [indie_electropop]\n20    [canadian_hip_hop, canadian_pop, hip_hop, pop_...\nName: genres_list, dtype: object"
     },
     "execution_count": 8,
     "metadata": {},
     "output_type": "execute_result"
    }
   ],
   "source": [
    "def genre_preprocess(df):\n",
    "    '''\n",
    "    Preprocess the genre data\n",
    "    '''\n",
    "    df['genres_list'] = df['genres'].apply(lambda x: x.split(\" \"))\n",
    "    return df\n",
    "songDF = genre_preprocess(songDF)\n",
    "songDF['genres_list'].head()\n"
   ]
  },
  {
   "cell_type": "code",
   "execution_count": 9,
   "id": "febf66fd-2ba4-4277-97e4-a864ec43b92b",
   "metadata": {},
   "outputs": [],
   "source": [
    "def playlist_preprocess(df):\n",
    "    '''\n",
    "    Preprocess imported playlist\n",
    "    '''\n",
    "    df = drop_duplicates(df)\n",
    "    df = select_cols(df)\n",
    "    df = genre_preprocess(df)\n",
    "\n",
    "    return df"
   ]
  },
  {
   "cell_type": "code",
   "execution_count": 10,
   "id": "b41535ad-9083-4009-ba2f-33cf9ce3271b",
   "metadata": {},
   "outputs": [],
   "source": [
    "def getSubjectivity(text):\n",
    "  '''\n",
    "  Getting the Subjectivity using TextBlob\n",
    "  '''\n",
    "  return TextBlob(text).sentiment.subjectivity\n",
    "\n",
    "def getPolarity(text):\n",
    "  '''\n",
    "  Getting the Polarity using TextBlob\n",
    "  '''\n",
    "  return TextBlob(text).sentiment.polarity\n",
    "\n",
    "def getAnalysis(score, task=\"polarity\"):\n",
    "  '''\n",
    "  Categorizing the Polarity & Subjectivity score\n",
    "  '''\n",
    "  if task == \"subjectivity\":\n",
    "    if score < 1/3:\n",
    "      return \"low\"\n",
    "    elif score > 1/3:\n",
    "      return \"high\"\n",
    "    else:\n",
    "      return \"medium\"\n",
    "  else:\n",
    "    if score < 0:\n",
    "      return 'Negative'\n",
    "    elif score == 0:\n",
    "      return 'Neutral'\n",
    "    else:\n",
    "      return 'Positive'\n",
    "\n",
    "def sentiment_analysis(df, text_col):\n",
    "  '''\n",
    "  Perform sentiment analysis on text\n",
    "  ---\n",
    "  Input:\n",
    "  df (pandas dataframe): Dataframe of interest\n",
    "  text_col (str): column of interest\n",
    "  '''\n",
    "  df['subjectivity'] = df[text_col].apply(getSubjectivity).apply(lambda x: getAnalysis(x,\"subjectivity\"))\n",
    "  df['polarity'] = df[text_col].apply(getPolarity).apply(getAnalysis)\n",
    "  return df"
   ]
  },
  {
   "cell_type": "code",
   "execution_count": 11,
   "id": "0e40ec39-62af-4039-85ad-cb77db5f8e77",
   "metadata": {},
   "outputs": [
    {
     "data": {
      "text/plain": "      artist_name                      id track_name  danceability  energy  \\\n0          WILDES  3uvsVUrAaGQJCTEUR1S3Sx       Bare         0.523   0.422   \n1            MIIA  0heE5tAAaDQmnGhVDImPl2    Dynasty         0.493   0.594   \n2   Cold War Kids  3omXshBamrREltcf24gYDC      First         0.468   0.692   \n18    Violet Days  6TYWE19e35N7Bn5heHwyY6  Your Girl         0.553   0.564   \n20          Drake  1xznGGDReH1oQq0xzbwXa3  One Dance         0.791   0.619   \n\n    key  loudness  mode  speechiness  acousticness  instrumentalness  \\\n0     3   -10.385     0       0.0270       0.78300          0.005140   \n1     8    -4.404     0       0.0378       0.25600          0.000000   \n2     2    -4.015     1       0.0295       0.02020          0.000002   \n18    9    -7.072     0       0.0418       0.03900          0.000000   \n20    1    -5.886     1       0.0532       0.00784          0.004230   \n\n    liveness  valence    tempo  artist_pop  \\\n0     0.0898    0.145  129.876          32   \n1     0.0759    0.304  123.751          51   \n2     0.5230    0.561   78.009          58   \n18    0.3180    0.310  149.953          55   \n20    0.3510    0.371  103.989          95   \n\n                                               genres  track_pop  \\\n0                           british_singer-songwriter          0   \n1                                       norwegian_pop         65   \n2   indie_rock modern_alternative_rock modern_rock...         71   \n18                                   indie_electropop         32   \n20  canadian_hip_hop canadian_pop hip_hop pop_rap rap         40   \n\n                                          genres_list subjectivity  polarity  \n0                         [british_singer-songwriter]          low  Positive  \n1                                     [norwegian_pop]          low   Neutral  \n2   [indie_rock, modern_alternative_rock, modern_r...       medium  Positive  \n18                                 [indie_electropop]          low   Neutral  \n20  [canadian_hip_hop, canadian_pop, hip_hop, pop_...          low   Neutral  ",
      "text/html": "<div>\n<style scoped>\n    .dataframe tbody tr th:only-of-type {\n        vertical-align: middle;\n    }\n\n    .dataframe tbody tr th {\n        vertical-align: top;\n    }\n\n    .dataframe thead th {\n        text-align: right;\n    }\n</style>\n<table border=\"1\" class=\"dataframe\">\n  <thead>\n    <tr style=\"text-align: right;\">\n      <th></th>\n      <th>artist_name</th>\n      <th>id</th>\n      <th>track_name</th>\n      <th>danceability</th>\n      <th>energy</th>\n      <th>key</th>\n      <th>loudness</th>\n      <th>mode</th>\n      <th>speechiness</th>\n      <th>acousticness</th>\n      <th>instrumentalness</th>\n      <th>liveness</th>\n      <th>valence</th>\n      <th>tempo</th>\n      <th>artist_pop</th>\n      <th>genres</th>\n      <th>track_pop</th>\n      <th>genres_list</th>\n      <th>subjectivity</th>\n      <th>polarity</th>\n    </tr>\n  </thead>\n  <tbody>\n    <tr>\n      <th>0</th>\n      <td>WILDES</td>\n      <td>3uvsVUrAaGQJCTEUR1S3Sx</td>\n      <td>Bare</td>\n      <td>0.523</td>\n      <td>0.422</td>\n      <td>3</td>\n      <td>-10.385</td>\n      <td>0</td>\n      <td>0.0270</td>\n      <td>0.78300</td>\n      <td>0.005140</td>\n      <td>0.0898</td>\n      <td>0.145</td>\n      <td>129.876</td>\n      <td>32</td>\n      <td>british_singer-songwriter</td>\n      <td>0</td>\n      <td>[british_singer-songwriter]</td>\n      <td>low</td>\n      <td>Positive</td>\n    </tr>\n    <tr>\n      <th>1</th>\n      <td>MIIA</td>\n      <td>0heE5tAAaDQmnGhVDImPl2</td>\n      <td>Dynasty</td>\n      <td>0.493</td>\n      <td>0.594</td>\n      <td>8</td>\n      <td>-4.404</td>\n      <td>0</td>\n      <td>0.0378</td>\n      <td>0.25600</td>\n      <td>0.000000</td>\n      <td>0.0759</td>\n      <td>0.304</td>\n      <td>123.751</td>\n      <td>51</td>\n      <td>norwegian_pop</td>\n      <td>65</td>\n      <td>[norwegian_pop]</td>\n      <td>low</td>\n      <td>Neutral</td>\n    </tr>\n    <tr>\n      <th>2</th>\n      <td>Cold War Kids</td>\n      <td>3omXshBamrREltcf24gYDC</td>\n      <td>First</td>\n      <td>0.468</td>\n      <td>0.692</td>\n      <td>2</td>\n      <td>-4.015</td>\n      <td>1</td>\n      <td>0.0295</td>\n      <td>0.02020</td>\n      <td>0.000002</td>\n      <td>0.5230</td>\n      <td>0.561</td>\n      <td>78.009</td>\n      <td>58</td>\n      <td>indie_rock modern_alternative_rock modern_rock...</td>\n      <td>71</td>\n      <td>[indie_rock, modern_alternative_rock, modern_r...</td>\n      <td>medium</td>\n      <td>Positive</td>\n    </tr>\n    <tr>\n      <th>18</th>\n      <td>Violet Days</td>\n      <td>6TYWE19e35N7Bn5heHwyY6</td>\n      <td>Your Girl</td>\n      <td>0.553</td>\n      <td>0.564</td>\n      <td>9</td>\n      <td>-7.072</td>\n      <td>0</td>\n      <td>0.0418</td>\n      <td>0.03900</td>\n      <td>0.000000</td>\n      <td>0.3180</td>\n      <td>0.310</td>\n      <td>149.953</td>\n      <td>55</td>\n      <td>indie_electropop</td>\n      <td>32</td>\n      <td>[indie_electropop]</td>\n      <td>low</td>\n      <td>Neutral</td>\n    </tr>\n    <tr>\n      <th>20</th>\n      <td>Drake</td>\n      <td>1xznGGDReH1oQq0xzbwXa3</td>\n      <td>One Dance</td>\n      <td>0.791</td>\n      <td>0.619</td>\n      <td>1</td>\n      <td>-5.886</td>\n      <td>1</td>\n      <td>0.0532</td>\n      <td>0.00784</td>\n      <td>0.004230</td>\n      <td>0.3510</td>\n      <td>0.371</td>\n      <td>103.989</td>\n      <td>95</td>\n      <td>canadian_hip_hop canadian_pop hip_hop pop_rap rap</td>\n      <td>40</td>\n      <td>[canadian_hip_hop, canadian_pop, hip_hop, pop_...</td>\n      <td>low</td>\n      <td>Neutral</td>\n    </tr>\n  </tbody>\n</table>\n</div>"
     },
     "execution_count": 11,
     "metadata": {},
     "output_type": "execute_result"
    }
   ],
   "source": [
    "# Show result\n",
    "sentiment = sentiment_analysis(songDF, \"track_name\")\n",
    "sentiment.head()"
   ]
  },
  {
   "cell_type": "code",
   "execution_count": 12,
   "id": "202bdc77-a016-445c-9f88-111c1e0a3744",
   "metadata": {},
   "outputs": [],
   "source": [
    "def ohe_prep(df, column, new_name): \n",
    "    ''' \n",
    "    Create One Hot Encoded features of a specific column\n",
    "    ---\n",
    "    Input: \n",
    "    df (pandas dataframe): Spotify Dataframe\n",
    "    column (str): Column to be processed\n",
    "    new_name (str): new column name to be used\n",
    "        \n",
    "    Output: \n",
    "    tf_df: One-hot encoded features \n",
    "    '''\n",
    "    \n",
    "    tf_df = pd.get_dummies(df[column])\n",
    "    feature_names = tf_df.columns\n",
    "    tf_df.columns = [new_name + \"|\" + str(i) for i in feature_names]\n",
    "    tf_df.reset_index(drop = True, inplace = True)    \n",
    "    return tf_df\n"
   ]
  },
  {
   "cell_type": "code",
   "execution_count": 13,
   "id": "1039aaf3-1c2f-4c70-a433-11f228cbdc76",
   "metadata": {},
   "outputs": [
    {
     "data": {
      "text/plain": "subject|high      False\nsubject|low        True\nsubject|medium    False\nName: 0, dtype: bool"
     },
     "execution_count": 13,
     "metadata": {},
     "output_type": "execute_result"
    }
   ],
   "source": [
    "# One-hot encoding for the subjectivity \n",
    "subject_ohe = ohe_prep(sentiment, 'subjectivity','subject')\n",
    "subject_ohe.iloc[0]\n"
   ]
  },
  {
   "cell_type": "code",
   "execution_count": 14,
   "id": "50fabf21-e371-45ef-9899-f41532f31261",
   "metadata": {},
   "outputs": [
    {
     "data": {
      "text/plain": "genre|21st_century_classical    0.0\ngenre|5th_wave_emo              0.0\ngenre|_hip_hop                  0.0\ngenre|_indie                    0.0\ngenre|_roll                     0.0\n                               ... \ngenre|zenonesque                0.0\ngenre|zhongguo_feng             0.0\ngenre|zimdancehall              0.0\ngenre|zolo                      0.0\ngenre|zydeco                    0.0\nName: 0, Length: 2186, dtype: float64"
     },
     "execution_count": 14,
     "metadata": {},
     "output_type": "execute_result"
    }
   ],
   "source": [
    "# TF-IDF implementation\n",
    "tfidf = TfidfVectorizer()\n",
    "tfidf_matrix =  tfidf.fit_transform(songDF['genres_list'].apply(lambda x: \" \".join(x)))\n",
    "genre_df = pd.DataFrame(tfidf_matrix.toarray())\n",
    "genre_df.columns = ['genre' + \"|\" + i for i in tfidf.get_feature_names_out() ]\n",
    "genre_df.drop(columns='genre|unknown')\n",
    "genre_df.reset_index(drop = True, inplace=True)\n",
    "genre_df.iloc[0]"
   ]
  },
  {
   "cell_type": "code",
   "execution_count": 15,
   "id": "539d2add-2d95-41a4-b254-6c763362daa5",
   "metadata": {},
   "outputs": [
    {
     "name": "stdout",
     "output_type": "stream",
     "text": [
      "count    34366.000000\n",
      "mean        55.296718\n",
      "std         19.852848\n",
      "min          0.000000\n",
      "25%         44.000000\n",
      "50%         58.000000\n",
      "75%         70.000000\n",
      "max        100.000000\n",
      "Name: artist_pop, dtype: float64\n"
     ]
    }
   ],
   "source": [
    "# artist_pop distribution descriptive stats\n",
    "print(songDF['artist_pop'].describe())"
   ]
  },
  {
   "cell_type": "code",
   "execution_count": 16,
   "id": "83c9a3e2-f4a4-4e26-9063-5e48b452b974",
   "metadata": {},
   "outputs": [
    {
     "data": {
      "text/plain": "   artist_pop\n0        0.32\n1        0.51\n2        0.58\n3        0.55\n4        0.95",
      "text/html": "<div>\n<style scoped>\n    .dataframe tbody tr th:only-of-type {\n        vertical-align: middle;\n    }\n\n    .dataframe tbody tr th {\n        vertical-align: top;\n    }\n\n    .dataframe thead th {\n        text-align: right;\n    }\n</style>\n<table border=\"1\" class=\"dataframe\">\n  <thead>\n    <tr style=\"text-align: right;\">\n      <th></th>\n      <th>artist_pop</th>\n    </tr>\n  </thead>\n  <tbody>\n    <tr>\n      <th>0</th>\n      <td>0.32</td>\n    </tr>\n    <tr>\n      <th>1</th>\n      <td>0.51</td>\n    </tr>\n    <tr>\n      <th>2</th>\n      <td>0.58</td>\n    </tr>\n    <tr>\n      <th>3</th>\n      <td>0.55</td>\n    </tr>\n    <tr>\n      <th>4</th>\n      <td>0.95</td>\n    </tr>\n  </tbody>\n</table>\n</div>"
     },
     "execution_count": 16,
     "metadata": {},
     "output_type": "execute_result"
    }
   ],
   "source": [
    "# Normalization\n",
    "pop = songDF[[\"artist_pop\"]].reset_index(drop = True)\n",
    "scaler = MinMaxScaler()\n",
    "pop_scaled = pd.DataFrame(scaler.fit_transform(pop), columns = pop.columns)\n",
    "pop_scaled.head()\n"
   ]
  },
  {
   "cell_type": "code",
   "execution_count": 17,
   "id": "cf5fe1f1-76cb-4748-b96b-f900612cb7fa",
   "metadata": {},
   "outputs": [],
   "source": [
    "def create_feature_set(df, float_cols):\n",
    "    '''\n",
    "    Process spotify df to create a final set of features that will be used to generate recommendations\n",
    "    ---\n",
    "    Input: \n",
    "    df (pandas dataframe): Spotify Dataframe\n",
    "    float_cols (list(str)): List of float columns that will be scaled\n",
    "            \n",
    "    Output: \n",
    "    final (pandas dataframe): Final set of features \n",
    "    '''\n",
    "    \n",
    "    # Tfidf genre lists\n",
    "    tfidf = TfidfVectorizer()\n",
    "    tfidf_matrix =  tfidf.fit_transform(df['genres_list'].apply(lambda x: \" \".join(x)))\n",
    "    genre_df = pd.DataFrame(tfidf_matrix.toarray())\n",
    "    genre_df.columns = ['genre' + \"|\" + i for i in tfidf.get_feature_names_out()]\n",
    "    genre_df.drop(columns='genre|unknown') # drop unknown genre\n",
    "    genre_df.reset_index(drop = True, inplace=True)\n",
    "    \n",
    "    # Sentiment analysis\n",
    "    df = sentiment_analysis(df, \"track_name\")\n",
    "\n",
    "    # One-hot Encoding\n",
    "    subject_ohe = ohe_prep(df, 'subjectivity','subject') * 0.3\n",
    "    polar_ohe = ohe_prep(df, 'polarity','polar') * 0.5\n",
    "    key_ohe = ohe_prep(df, 'key','key') * 0.5\n",
    "    mode_ohe = ohe_prep(df, 'mode','mode') * 0.5\n",
    "\n",
    "    # Normalization\n",
    "    # Scale popularity columns\n",
    "    pop = df[[\"artist_pop\",\"track_pop\"]].reset_index(drop = True)\n",
    "    scaler = MinMaxScaler()\n",
    "    pop_scaled = pd.DataFrame(scaler.fit_transform(pop), columns = pop.columns) * 0.2 \n",
    "\n",
    "    # Scale audio columns\n",
    "    floats = df[float_cols].reset_index(drop = True)\n",
    "    scaler = MinMaxScaler()\n",
    "    floats_scaled = pd.DataFrame(scaler.fit_transform(floats), columns = floats.columns) * 0.2\n",
    "\n",
    "    # Concanenate all features\n",
    "    final = pd.concat([genre_df, floats_scaled, pop_scaled, subject_ohe, polar_ohe, key_ohe, mode_ohe], axis = 1)\n",
    "    \n",
    "    # Add song id\n",
    "    final['id']=df['id'].values\n",
    "    \n",
    "    return final\n"
   ]
  },
  {
   "cell_type": "code",
   "execution_count": 18,
   "id": "e6f39f2b-ae1f-4dfa-bc0b-112992416280",
   "metadata": {},
   "outputs": [
    {
     "data": {
      "text/plain": "   genre|21st_century_classical  genre|5th_wave_emo  genre|_hip_hop  \\\n0                           0.0                 0.0             0.0   \n1                           0.0                 0.0             0.0   \n2                           0.0                 0.0             0.0   \n3                           0.0                 0.0             0.0   \n4                           0.0                 0.0             0.0   \n\n   genre|_indie  genre|_roll  genre|a_cappella  genre|abstract  \\\n0           0.0          0.0               0.0             0.0   \n1           0.0          0.0               0.0             0.0   \n2           0.0          0.0               0.0             0.0   \n3           0.0          0.0               0.0             0.0   \n4           0.0          0.0               0.0             0.0   \n\n   genre|abstract_beats  genre|abstract_hip_hop  genre|abstract_idm  ...  \\\n0                   0.0                     0.0                 0.0  ...   \n1                   0.0                     0.0                 0.0  ...   \n2                   0.0                     0.0                 0.0  ...   \n3                   0.0                     0.0                 0.0  ...   \n4                   0.0                     0.0                 0.0  ...   \n\n   key|5  key|6  key|7  key|8  key|9  key|10  key|11  mode|0  mode|1  \\\n0    0.0    0.0    0.0    0.0    0.0     0.0     0.0     0.5     0.0   \n1    0.0    0.0    0.0    0.5    0.0     0.0     0.0     0.5     0.0   \n2    0.0    0.0    0.0    0.0    0.0     0.0     0.0     0.0     0.5   \n3    0.0    0.0    0.0    0.0    0.5     0.0     0.0     0.5     0.0   \n4    0.0    0.0    0.0    0.0    0.0     0.0     0.0     0.0     0.5   \n\n                       id  \n0  3uvsVUrAaGQJCTEUR1S3Sx  \n1  0heE5tAAaDQmnGhVDImPl2  \n2  3omXshBamrREltcf24gYDC  \n3  6TYWE19e35N7Bn5heHwyY6  \n4  1xznGGDReH1oQq0xzbwXa3  \n\n[5 rows x 2218 columns]",
      "text/html": "<div>\n<style scoped>\n    .dataframe tbody tr th:only-of-type {\n        vertical-align: middle;\n    }\n\n    .dataframe tbody tr th {\n        vertical-align: top;\n    }\n\n    .dataframe thead th {\n        text-align: right;\n    }\n</style>\n<table border=\"1\" class=\"dataframe\">\n  <thead>\n    <tr style=\"text-align: right;\">\n      <th></th>\n      <th>genre|21st_century_classical</th>\n      <th>genre|5th_wave_emo</th>\n      <th>genre|_hip_hop</th>\n      <th>genre|_indie</th>\n      <th>genre|_roll</th>\n      <th>genre|a_cappella</th>\n      <th>genre|abstract</th>\n      <th>genre|abstract_beats</th>\n      <th>genre|abstract_hip_hop</th>\n      <th>genre|abstract_idm</th>\n      <th>...</th>\n      <th>key|5</th>\n      <th>key|6</th>\n      <th>key|7</th>\n      <th>key|8</th>\n      <th>key|9</th>\n      <th>key|10</th>\n      <th>key|11</th>\n      <th>mode|0</th>\n      <th>mode|1</th>\n      <th>id</th>\n    </tr>\n  </thead>\n  <tbody>\n    <tr>\n      <th>0</th>\n      <td>0.0</td>\n      <td>0.0</td>\n      <td>0.0</td>\n      <td>0.0</td>\n      <td>0.0</td>\n      <td>0.0</td>\n      <td>0.0</td>\n      <td>0.0</td>\n      <td>0.0</td>\n      <td>0.0</td>\n      <td>...</td>\n      <td>0.0</td>\n      <td>0.0</td>\n      <td>0.0</td>\n      <td>0.0</td>\n      <td>0.0</td>\n      <td>0.0</td>\n      <td>0.0</td>\n      <td>0.5</td>\n      <td>0.0</td>\n      <td>3uvsVUrAaGQJCTEUR1S3Sx</td>\n    </tr>\n    <tr>\n      <th>1</th>\n      <td>0.0</td>\n      <td>0.0</td>\n      <td>0.0</td>\n      <td>0.0</td>\n      <td>0.0</td>\n      <td>0.0</td>\n      <td>0.0</td>\n      <td>0.0</td>\n      <td>0.0</td>\n      <td>0.0</td>\n      <td>...</td>\n      <td>0.0</td>\n      <td>0.0</td>\n      <td>0.0</td>\n      <td>0.5</td>\n      <td>0.0</td>\n      <td>0.0</td>\n      <td>0.0</td>\n      <td>0.5</td>\n      <td>0.0</td>\n      <td>0heE5tAAaDQmnGhVDImPl2</td>\n    </tr>\n    <tr>\n      <th>2</th>\n      <td>0.0</td>\n      <td>0.0</td>\n      <td>0.0</td>\n      <td>0.0</td>\n      <td>0.0</td>\n      <td>0.0</td>\n      <td>0.0</td>\n      <td>0.0</td>\n      <td>0.0</td>\n      <td>0.0</td>\n      <td>...</td>\n      <td>0.0</td>\n      <td>0.0</td>\n      <td>0.0</td>\n      <td>0.0</td>\n      <td>0.0</td>\n      <td>0.0</td>\n      <td>0.0</td>\n      <td>0.0</td>\n      <td>0.5</td>\n      <td>3omXshBamrREltcf24gYDC</td>\n    </tr>\n    <tr>\n      <th>3</th>\n      <td>0.0</td>\n      <td>0.0</td>\n      <td>0.0</td>\n      <td>0.0</td>\n      <td>0.0</td>\n      <td>0.0</td>\n      <td>0.0</td>\n      <td>0.0</td>\n      <td>0.0</td>\n      <td>0.0</td>\n      <td>...</td>\n      <td>0.0</td>\n      <td>0.0</td>\n      <td>0.0</td>\n      <td>0.0</td>\n      <td>0.5</td>\n      <td>0.0</td>\n      <td>0.0</td>\n      <td>0.5</td>\n      <td>0.0</td>\n      <td>6TYWE19e35N7Bn5heHwyY6</td>\n    </tr>\n    <tr>\n      <th>4</th>\n      <td>0.0</td>\n      <td>0.0</td>\n      <td>0.0</td>\n      <td>0.0</td>\n      <td>0.0</td>\n      <td>0.0</td>\n      <td>0.0</td>\n      <td>0.0</td>\n      <td>0.0</td>\n      <td>0.0</td>\n      <td>...</td>\n      <td>0.0</td>\n      <td>0.0</td>\n      <td>0.0</td>\n      <td>0.0</td>\n      <td>0.0</td>\n      <td>0.0</td>\n      <td>0.0</td>\n      <td>0.0</td>\n      <td>0.5</td>\n      <td>1xznGGDReH1oQq0xzbwXa3</td>\n    </tr>\n  </tbody>\n</table>\n<p>5 rows × 2218 columns</p>\n</div>"
     },
     "execution_count": 18,
     "metadata": {},
     "output_type": "execute_result"
    }
   ],
   "source": [
    "# Save the data and generate the features\n",
    "float_cols = songDF.dtypes[songDF.dtypes == 'float64'].index.values\n",
    "songDF.to_csv(\"./allsong_data.csv\", index = False)\n",
    "\n",
    "# Generate features\n",
    "complete_feature_set = create_feature_set(songDF, float_cols=float_cols)\n",
    "complete_feature_set.to_csv(\"./complete_feature.csv\", index = False)\n",
    "complete_feature_set.head()"
   ]
  },
  {
   "cell_type": "code",
   "execution_count": 19,
   "id": "bd13dcc0-91d5-4d77-a5c4-01ac61ce237a",
   "metadata": {},
   "outputs": [],
   "source": [
    "### This is the test data\n",
    "# playlistDF_test = pd.read_csv(\"../data/test_playlist.csv\")\n",
    "# playlistDF_test = playlist_preprocess(playlistDF_test)\n",
    "# playlistDF_test.head()\n",
    "\n",
    "# Test playlist:  Mom's playlist\n",
    "playlistDF_test = playlistDF[playlistDF['name']==\"Summer '17\"]\n",
    "playlistDF_test.head()\n",
    "playlistDF_test.to_csv(\"./test_playlist.csv\")"
   ]
  },
  {
   "cell_type": "code",
   "execution_count": 20,
   "id": "3af8d865-e605-40ab-a65a-c9925a4e7b58",
   "metadata": {},
   "outputs": [],
   "source": [
    "def generate_playlist_feature(complete_feature_set, playlist_df):\n",
    "    '''\n",
    "    Summarize a user's playlist into a single vector\n",
    "    ---\n",
    "    Input: \n",
    "    complete_feature_set (pandas dataframe): Dataframe which includes all of the features for the spotify songs\n",
    "    playlist_df (pandas dataframe): playlist dataframe\n",
    "        \n",
    "    Output: \n",
    "    complete_feature_set_playlist_final (pandas series): single vector feature that summarizes the playlist\n",
    "    complete_feature_set_nonplaylist (pandas dataframe): \n",
    "    '''\n",
    "    \n",
    "    # Find song features in the playlist\n",
    "    complete_feature_set_playlist = complete_feature_set[complete_feature_set['id'].isin(playlist_df['id'].values)]\n",
    "    # Find all non-playlist song features\n",
    "    complete_feature_set_nonplaylist = complete_feature_set[~complete_feature_set['id'].isin(playlist_df['id'].values)]\n",
    "    complete_feature_set_playlist_final = complete_feature_set_playlist.drop(columns = \"id\")\n",
    "    return complete_feature_set_playlist_final.sum(axis = 0), complete_feature_set_nonplaylist\n"
   ]
  },
  {
   "cell_type": "code",
   "execution_count": 21,
   "id": "c95a0704-4177-4ef1-bb99-7d1290b8a3ca",
   "metadata": {},
   "outputs": [],
   "source": [
    "# Generate the features\n",
    "complete_feature_set_playlist_vector, complete_feature_set_nonplaylist = generate_playlist_feature(complete_feature_set, playlistDF_test)\n"
   ]
  },
  {
   "cell_type": "code",
   "execution_count": 22,
   "id": "da7ad0f1-d30d-41a7-b3e0-0a90384d0062",
   "metadata": {},
   "outputs": [
    {
     "data": {
      "text/plain": "   genre|21st_century_classical  genre|5th_wave_emo  genre|_hip_hop  \\\n0                           0.0                 0.0             0.0   \n1                           0.0                 0.0             0.0   \n3                           0.0                 0.0             0.0   \n4                           0.0                 0.0             0.0   \n5                           0.0                 0.0             0.0   \n\n   genre|_indie  genre|_roll  genre|a_cappella  genre|abstract  \\\n0           0.0          0.0               0.0             0.0   \n1           0.0          0.0               0.0             0.0   \n3           0.0          0.0               0.0             0.0   \n4           0.0          0.0               0.0             0.0   \n5           0.0          0.0               0.0             0.0   \n\n   genre|abstract_beats  genre|abstract_hip_hop  genre|abstract_idm  ...  \\\n0                   0.0                     0.0                 0.0  ...   \n1                   0.0                     0.0                 0.0  ...   \n3                   0.0                     0.0                 0.0  ...   \n4                   0.0                     0.0                 0.0  ...   \n5                   0.0                     0.0                 0.0  ...   \n\n   key|5  key|6  key|7  key|8  key|9  key|10  key|11  mode|0  mode|1  \\\n0    0.0    0.0    0.0    0.0    0.0     0.0     0.0     0.5     0.0   \n1    0.0    0.0    0.0    0.5    0.0     0.0     0.0     0.5     0.0   \n3    0.0    0.0    0.0    0.0    0.5     0.0     0.0     0.5     0.0   \n4    0.0    0.0    0.0    0.0    0.0     0.0     0.0     0.0     0.5   \n5    0.0    0.0    0.0    0.0    0.5     0.0     0.0     0.5     0.0   \n\n                       id  \n0  3uvsVUrAaGQJCTEUR1S3Sx  \n1  0heE5tAAaDQmnGhVDImPl2  \n3  6TYWE19e35N7Bn5heHwyY6  \n4  1xznGGDReH1oQq0xzbwXa3  \n5  0yy6a8NCTaaVQwyEPIi8UU  \n\n[5 rows x 2218 columns]",
      "text/html": "<div>\n<style scoped>\n    .dataframe tbody tr th:only-of-type {\n        vertical-align: middle;\n    }\n\n    .dataframe tbody tr th {\n        vertical-align: top;\n    }\n\n    .dataframe thead th {\n        text-align: right;\n    }\n</style>\n<table border=\"1\" class=\"dataframe\">\n  <thead>\n    <tr style=\"text-align: right;\">\n      <th></th>\n      <th>genre|21st_century_classical</th>\n      <th>genre|5th_wave_emo</th>\n      <th>genre|_hip_hop</th>\n      <th>genre|_indie</th>\n      <th>genre|_roll</th>\n      <th>genre|a_cappella</th>\n      <th>genre|abstract</th>\n      <th>genre|abstract_beats</th>\n      <th>genre|abstract_hip_hop</th>\n      <th>genre|abstract_idm</th>\n      <th>...</th>\n      <th>key|5</th>\n      <th>key|6</th>\n      <th>key|7</th>\n      <th>key|8</th>\n      <th>key|9</th>\n      <th>key|10</th>\n      <th>key|11</th>\n      <th>mode|0</th>\n      <th>mode|1</th>\n      <th>id</th>\n    </tr>\n  </thead>\n  <tbody>\n    <tr>\n      <th>0</th>\n      <td>0.0</td>\n      <td>0.0</td>\n      <td>0.0</td>\n      <td>0.0</td>\n      <td>0.0</td>\n      <td>0.0</td>\n      <td>0.0</td>\n      <td>0.0</td>\n      <td>0.0</td>\n      <td>0.0</td>\n      <td>...</td>\n      <td>0.0</td>\n      <td>0.0</td>\n      <td>0.0</td>\n      <td>0.0</td>\n      <td>0.0</td>\n      <td>0.0</td>\n      <td>0.0</td>\n      <td>0.5</td>\n      <td>0.0</td>\n      <td>3uvsVUrAaGQJCTEUR1S3Sx</td>\n    </tr>\n    <tr>\n      <th>1</th>\n      <td>0.0</td>\n      <td>0.0</td>\n      <td>0.0</td>\n      <td>0.0</td>\n      <td>0.0</td>\n      <td>0.0</td>\n      <td>0.0</td>\n      <td>0.0</td>\n      <td>0.0</td>\n      <td>0.0</td>\n      <td>...</td>\n      <td>0.0</td>\n      <td>0.0</td>\n      <td>0.0</td>\n      <td>0.5</td>\n      <td>0.0</td>\n      <td>0.0</td>\n      <td>0.0</td>\n      <td>0.5</td>\n      <td>0.0</td>\n      <td>0heE5tAAaDQmnGhVDImPl2</td>\n    </tr>\n    <tr>\n      <th>3</th>\n      <td>0.0</td>\n      <td>0.0</td>\n      <td>0.0</td>\n      <td>0.0</td>\n      <td>0.0</td>\n      <td>0.0</td>\n      <td>0.0</td>\n      <td>0.0</td>\n      <td>0.0</td>\n      <td>0.0</td>\n      <td>...</td>\n      <td>0.0</td>\n      <td>0.0</td>\n      <td>0.0</td>\n      <td>0.0</td>\n      <td>0.5</td>\n      <td>0.0</td>\n      <td>0.0</td>\n      <td>0.5</td>\n      <td>0.0</td>\n      <td>6TYWE19e35N7Bn5heHwyY6</td>\n    </tr>\n    <tr>\n      <th>4</th>\n      <td>0.0</td>\n      <td>0.0</td>\n      <td>0.0</td>\n      <td>0.0</td>\n      <td>0.0</td>\n      <td>0.0</td>\n      <td>0.0</td>\n      <td>0.0</td>\n      <td>0.0</td>\n      <td>0.0</td>\n      <td>...</td>\n      <td>0.0</td>\n      <td>0.0</td>\n      <td>0.0</td>\n      <td>0.0</td>\n      <td>0.0</td>\n      <td>0.0</td>\n      <td>0.0</td>\n      <td>0.0</td>\n      <td>0.5</td>\n      <td>1xznGGDReH1oQq0xzbwXa3</td>\n    </tr>\n    <tr>\n      <th>5</th>\n      <td>0.0</td>\n      <td>0.0</td>\n      <td>0.0</td>\n      <td>0.0</td>\n      <td>0.0</td>\n      <td>0.0</td>\n      <td>0.0</td>\n      <td>0.0</td>\n      <td>0.0</td>\n      <td>0.0</td>\n      <td>...</td>\n      <td>0.0</td>\n      <td>0.0</td>\n      <td>0.0</td>\n      <td>0.0</td>\n      <td>0.5</td>\n      <td>0.0</td>\n      <td>0.0</td>\n      <td>0.5</td>\n      <td>0.0</td>\n      <td>0yy6a8NCTaaVQwyEPIi8UU</td>\n    </tr>\n  </tbody>\n</table>\n<p>5 rows × 2218 columns</p>\n</div>"
     },
     "execution_count": 22,
     "metadata": {},
     "output_type": "execute_result"
    }
   ],
   "source": [
    "# Non-playlist features\n",
    "complete_feature_set_nonplaylist.head()"
   ]
  },
  {
   "cell_type": "code",
   "execution_count": 23,
   "id": "2fe60a89-b161-4d1c-bff0-092a6bc415e2",
   "metadata": {},
   "outputs": [
    {
     "data": {
      "text/plain": "genre|21st_century_classical    0.000000\ngenre|5th_wave_emo              0.000000\ngenre|_hip_hop                  0.000000\ngenre|_indie                    0.917475\ngenre|_roll                     0.000000\n                                  ...   \nkey|9                           1.000000\nkey|10                          0.000000\nkey|11                          0.500000\nmode|0                          2.000000\nmode|1                          6.500000\nLength: 2217, dtype: float64"
     },
     "execution_count": 23,
     "metadata": {},
     "output_type": "execute_result"
    }
   ],
   "source": [
    "\n",
    "# Summarized playlist features\n",
    "complete_feature_set_playlist_vector\n"
   ]
  },
  {
   "cell_type": "code",
   "execution_count": 24,
   "id": "63a1299b-ec0e-4723-9e09-9e5a09fe5a0f",
   "metadata": {},
   "outputs": [],
   "source": [
    "def generate_playlist_recos(df, features, nonplaylist_features):\n",
    "    '''\n",
    "    Generated recommendation based on songs in aspecific playlist.\n",
    "    ---\n",
    "    Input: \n",
    "    df (pandas dataframe): spotify dataframe\n",
    "    features (pandas series): summarized playlist feature (single vector)\n",
    "    nonplaylist_features (pandas dataframe): feature set of songs that are not in the selected playlist\n",
    "        \n",
    "    Output: \n",
    "    non_playlist_df_top_40: Top 40 recommendations for that playlist\n",
    "    '''\n",
    "    \n",
    "    non_playlist_df = df[df['id'].isin(nonplaylist_features['id'].values)]\n",
    "    # Find cosine similarity between the playlist and the complete song set\n",
    "    non_playlist_df['sim'] = cosine_similarity(nonplaylist_features.drop('id', axis = 1).values, features.values.reshape(1, -1))[:,0]\n",
    "    non_playlist_df_top_40 = non_playlist_df.sort_values('sim',ascending = False).head(40)\n",
    "    \n",
    "    return non_playlist_df_top_40"
   ]
  },
  {
   "cell_type": "code",
   "execution_count": 25,
   "id": "031c5a81-3e6a-4edb-bcd3-37aa36e25483",
   "metadata": {},
   "outputs": [
    {
     "name": "stderr",
     "output_type": "stream",
     "text": [
      "/var/folders/4z/qjrn91vn35n8msqdc6t9tdrw0000gn/T/ipykernel_15511/2729577432.py:16: SettingWithCopyWarning: \n",
      "A value is trying to be set on a copy of a slice from a DataFrame.\n",
      "Try using .loc[row_indexer,col_indexer] = value instead\n",
      "\n",
      "See the caveats in the documentation: https://pandas.pydata.org/pandas-docs/stable/user_guide/indexing.html#returning-a-view-versus-a-copy\n",
      "  non_playlist_df['sim'] = cosine_similarity(nonplaylist_features.drop('id', axis = 1).values, features.values.reshape(1, -1))[:,0]\n"
     ]
    },
    {
     "data": {
      "text/plain": "      artist_name                      id                         track_name  \\\n51877  Ed Sheeran  5KL4iZkCTZyXl7KnHgfVDj      You Need Me, I Don't Need You   \n62291  Ed Sheeran  6SznMYPQJHzr3IwsAHLId2                     Bibia Be Ye Ye   \n44048  Ed Sheeran  1k5Fru5iZKKlgWOQCv35kQ                 Everything You Are   \n46583  Ed Sheeran  3Lfiu5sZ4M4B6JaKMBc0FU                          Barcelona   \n41244  Ed Sheeran  2A17f6I4fh6GqYX0J8noGr  Galway Girl - Martin Jensen Remix   \n9683   Ed Sheeran  6gTJaPuj8DT8RjuDJyBgzP                              Don't   \n44071  Ed Sheeran  2dfHh7ECGxfNqZTQno09Vk     Hearts Don't Break Around Here   \n56680  Ed Sheeran  3zvc53juLgo3LibcwGBDqn                       Take It Back   \n52982  Ed Sheeran  49WNdS1zw5NjaqMNEARcWO            Don't - Rick Ross Remix   \n47347  Ed Sheeran  6PJ8FF6UR8FZXfEvpHkIVN         How Would You Feel (Paean)   \n\n       danceability  energy  key  loudness  mode  speechiness  acousticness  \\\n51877         0.749   0.837    7    -8.837     1       0.0512        0.1620   \n62291         0.738   0.677    7    -5.121     1       0.0824        0.5200   \n44048         0.629   0.707    7    -5.504     1       0.0947        0.3620   \n46583         0.747   0.760    1    -4.294     1       0.1870        0.4480   \n41244         0.726   0.748    9    -4.576     1       0.0438        0.0245   \n9683          0.806   0.608    1    -7.008     1       0.0659        0.0113   \n44071         0.604   0.366    7    -7.881     1       0.0267        0.7190   \n56680         0.754   0.613    5    -6.342     1       0.2290        0.3180   \n52982         0.800   0.630    1    -7.103     1       0.1220        0.0147   \n47347         0.617   0.439    9    -5.630     1       0.0269        0.4240   \n\n       ...  liveness  valence    tempo  artist_pop  \\\n51877  ...     0.525    0.927  103.483          86   \n62291  ...     0.133    0.882  127.067          86   \n44048  ...     0.112    0.369  173.847          86   \n46583  ...     0.153    0.682   99.975          86   \n41244  ...     0.141    0.731  100.055          86   \n9683   ...     0.635    0.849   95.049          86   \n44071  ...     0.162    0.181  105.177          86   \n56680  ...     0.335    0.904  113.196          86   \n52982  ...     0.559    0.822   95.046          86   \n47347  ...     0.127    0.242  139.979          86   \n\n                                 genres track_pop  \\\n51877  pop singer-songwriter_pop uk_pop        63   \n62291  pop singer-songwriter_pop uk_pop        62   \n44048  pop singer-songwriter_pop uk_pop        39   \n46583  pop singer-songwriter_pop uk_pop        65   \n41244  pop singer-songwriter_pop uk_pop        52   \n9683   pop singer-songwriter_pop uk_pop        58   \n44071  pop singer-songwriter_pop uk_pop        63   \n56680  pop singer-songwriter_pop uk_pop        31   \n52982  pop singer-songwriter_pop uk_pop        43   \n47347  pop singer-songwriter_pop uk_pop        67   \n\n                                genres_list subjectivity polarity       sim  \n51877  [pop, singer-songwriter_pop, uk_pop]          low  Neutral  0.800163  \n62291  [pop, singer-songwriter_pop, uk_pop]          low  Neutral  0.800062  \n44048  [pop, singer-songwriter_pop, uk_pop]          low  Neutral  0.793149  \n46583  [pop, singer-songwriter_pop, uk_pop]          low  Neutral  0.786998  \n41244  [pop, singer-songwriter_pop, uk_pop]          low  Neutral  0.784862  \n9683   [pop, singer-songwriter_pop, uk_pop]          low  Neutral  0.783658  \n44071  [pop, singer-songwriter_pop, uk_pop]          low  Neutral  0.783372  \n56680  [pop, singer-songwriter_pop, uk_pop]          low  Neutral  0.782349  \n52982  [pop, singer-songwriter_pop, uk_pop]          low  Neutral  0.782151  \n47347  [pop, singer-songwriter_pop, uk_pop]          low  Neutral  0.776953  \n\n[10 rows x 21 columns]",
      "text/html": "<div>\n<style scoped>\n    .dataframe tbody tr th:only-of-type {\n        vertical-align: middle;\n    }\n\n    .dataframe tbody tr th {\n        vertical-align: top;\n    }\n\n    .dataframe thead th {\n        text-align: right;\n    }\n</style>\n<table border=\"1\" class=\"dataframe\">\n  <thead>\n    <tr style=\"text-align: right;\">\n      <th></th>\n      <th>artist_name</th>\n      <th>id</th>\n      <th>track_name</th>\n      <th>danceability</th>\n      <th>energy</th>\n      <th>key</th>\n      <th>loudness</th>\n      <th>mode</th>\n      <th>speechiness</th>\n      <th>acousticness</th>\n      <th>...</th>\n      <th>liveness</th>\n      <th>valence</th>\n      <th>tempo</th>\n      <th>artist_pop</th>\n      <th>genres</th>\n      <th>track_pop</th>\n      <th>genres_list</th>\n      <th>subjectivity</th>\n      <th>polarity</th>\n      <th>sim</th>\n    </tr>\n  </thead>\n  <tbody>\n    <tr>\n      <th>51877</th>\n      <td>Ed Sheeran</td>\n      <td>5KL4iZkCTZyXl7KnHgfVDj</td>\n      <td>You Need Me, I Don't Need You</td>\n      <td>0.749</td>\n      <td>0.837</td>\n      <td>7</td>\n      <td>-8.837</td>\n      <td>1</td>\n      <td>0.0512</td>\n      <td>0.1620</td>\n      <td>...</td>\n      <td>0.525</td>\n      <td>0.927</td>\n      <td>103.483</td>\n      <td>86</td>\n      <td>pop singer-songwriter_pop uk_pop</td>\n      <td>63</td>\n      <td>[pop, singer-songwriter_pop, uk_pop]</td>\n      <td>low</td>\n      <td>Neutral</td>\n      <td>0.800163</td>\n    </tr>\n    <tr>\n      <th>62291</th>\n      <td>Ed Sheeran</td>\n      <td>6SznMYPQJHzr3IwsAHLId2</td>\n      <td>Bibia Be Ye Ye</td>\n      <td>0.738</td>\n      <td>0.677</td>\n      <td>7</td>\n      <td>-5.121</td>\n      <td>1</td>\n      <td>0.0824</td>\n      <td>0.5200</td>\n      <td>...</td>\n      <td>0.133</td>\n      <td>0.882</td>\n      <td>127.067</td>\n      <td>86</td>\n      <td>pop singer-songwriter_pop uk_pop</td>\n      <td>62</td>\n      <td>[pop, singer-songwriter_pop, uk_pop]</td>\n      <td>low</td>\n      <td>Neutral</td>\n      <td>0.800062</td>\n    </tr>\n    <tr>\n      <th>44048</th>\n      <td>Ed Sheeran</td>\n      <td>1k5Fru5iZKKlgWOQCv35kQ</td>\n      <td>Everything You Are</td>\n      <td>0.629</td>\n      <td>0.707</td>\n      <td>7</td>\n      <td>-5.504</td>\n      <td>1</td>\n      <td>0.0947</td>\n      <td>0.3620</td>\n      <td>...</td>\n      <td>0.112</td>\n      <td>0.369</td>\n      <td>173.847</td>\n      <td>86</td>\n      <td>pop singer-songwriter_pop uk_pop</td>\n      <td>39</td>\n      <td>[pop, singer-songwriter_pop, uk_pop]</td>\n      <td>low</td>\n      <td>Neutral</td>\n      <td>0.793149</td>\n    </tr>\n    <tr>\n      <th>46583</th>\n      <td>Ed Sheeran</td>\n      <td>3Lfiu5sZ4M4B6JaKMBc0FU</td>\n      <td>Barcelona</td>\n      <td>0.747</td>\n      <td>0.760</td>\n      <td>1</td>\n      <td>-4.294</td>\n      <td>1</td>\n      <td>0.1870</td>\n      <td>0.4480</td>\n      <td>...</td>\n      <td>0.153</td>\n      <td>0.682</td>\n      <td>99.975</td>\n      <td>86</td>\n      <td>pop singer-songwriter_pop uk_pop</td>\n      <td>65</td>\n      <td>[pop, singer-songwriter_pop, uk_pop]</td>\n      <td>low</td>\n      <td>Neutral</td>\n      <td>0.786998</td>\n    </tr>\n    <tr>\n      <th>41244</th>\n      <td>Ed Sheeran</td>\n      <td>2A17f6I4fh6GqYX0J8noGr</td>\n      <td>Galway Girl - Martin Jensen Remix</td>\n      <td>0.726</td>\n      <td>0.748</td>\n      <td>9</td>\n      <td>-4.576</td>\n      <td>1</td>\n      <td>0.0438</td>\n      <td>0.0245</td>\n      <td>...</td>\n      <td>0.141</td>\n      <td>0.731</td>\n      <td>100.055</td>\n      <td>86</td>\n      <td>pop singer-songwriter_pop uk_pop</td>\n      <td>52</td>\n      <td>[pop, singer-songwriter_pop, uk_pop]</td>\n      <td>low</td>\n      <td>Neutral</td>\n      <td>0.784862</td>\n    </tr>\n    <tr>\n      <th>9683</th>\n      <td>Ed Sheeran</td>\n      <td>6gTJaPuj8DT8RjuDJyBgzP</td>\n      <td>Don't</td>\n      <td>0.806</td>\n      <td>0.608</td>\n      <td>1</td>\n      <td>-7.008</td>\n      <td>1</td>\n      <td>0.0659</td>\n      <td>0.0113</td>\n      <td>...</td>\n      <td>0.635</td>\n      <td>0.849</td>\n      <td>95.049</td>\n      <td>86</td>\n      <td>pop singer-songwriter_pop uk_pop</td>\n      <td>58</td>\n      <td>[pop, singer-songwriter_pop, uk_pop]</td>\n      <td>low</td>\n      <td>Neutral</td>\n      <td>0.783658</td>\n    </tr>\n    <tr>\n      <th>44071</th>\n      <td>Ed Sheeran</td>\n      <td>2dfHh7ECGxfNqZTQno09Vk</td>\n      <td>Hearts Don't Break Around Here</td>\n      <td>0.604</td>\n      <td>0.366</td>\n      <td>7</td>\n      <td>-7.881</td>\n      <td>1</td>\n      <td>0.0267</td>\n      <td>0.7190</td>\n      <td>...</td>\n      <td>0.162</td>\n      <td>0.181</td>\n      <td>105.177</td>\n      <td>86</td>\n      <td>pop singer-songwriter_pop uk_pop</td>\n      <td>63</td>\n      <td>[pop, singer-songwriter_pop, uk_pop]</td>\n      <td>low</td>\n      <td>Neutral</td>\n      <td>0.783372</td>\n    </tr>\n    <tr>\n      <th>56680</th>\n      <td>Ed Sheeran</td>\n      <td>3zvc53juLgo3LibcwGBDqn</td>\n      <td>Take It Back</td>\n      <td>0.754</td>\n      <td>0.613</td>\n      <td>5</td>\n      <td>-6.342</td>\n      <td>1</td>\n      <td>0.2290</td>\n      <td>0.3180</td>\n      <td>...</td>\n      <td>0.335</td>\n      <td>0.904</td>\n      <td>113.196</td>\n      <td>86</td>\n      <td>pop singer-songwriter_pop uk_pop</td>\n      <td>31</td>\n      <td>[pop, singer-songwriter_pop, uk_pop]</td>\n      <td>low</td>\n      <td>Neutral</td>\n      <td>0.782349</td>\n    </tr>\n    <tr>\n      <th>52982</th>\n      <td>Ed Sheeran</td>\n      <td>49WNdS1zw5NjaqMNEARcWO</td>\n      <td>Don't - Rick Ross Remix</td>\n      <td>0.800</td>\n      <td>0.630</td>\n      <td>1</td>\n      <td>-7.103</td>\n      <td>1</td>\n      <td>0.1220</td>\n      <td>0.0147</td>\n      <td>...</td>\n      <td>0.559</td>\n      <td>0.822</td>\n      <td>95.046</td>\n      <td>86</td>\n      <td>pop singer-songwriter_pop uk_pop</td>\n      <td>43</td>\n      <td>[pop, singer-songwriter_pop, uk_pop]</td>\n      <td>low</td>\n      <td>Neutral</td>\n      <td>0.782151</td>\n    </tr>\n    <tr>\n      <th>47347</th>\n      <td>Ed Sheeran</td>\n      <td>6PJ8FF6UR8FZXfEvpHkIVN</td>\n      <td>How Would You Feel (Paean)</td>\n      <td>0.617</td>\n      <td>0.439</td>\n      <td>9</td>\n      <td>-5.630</td>\n      <td>1</td>\n      <td>0.0269</td>\n      <td>0.4240</td>\n      <td>...</td>\n      <td>0.127</td>\n      <td>0.242</td>\n      <td>139.979</td>\n      <td>86</td>\n      <td>pop singer-songwriter_pop uk_pop</td>\n      <td>67</td>\n      <td>[pop, singer-songwriter_pop, uk_pop]</td>\n      <td>low</td>\n      <td>Neutral</td>\n      <td>0.776953</td>\n    </tr>\n  </tbody>\n</table>\n<p>10 rows × 21 columns</p>\n</div>"
     },
     "execution_count": 25,
     "metadata": {},
     "output_type": "execute_result"
    }
   ],
   "source": [
    "# Genreate top 10 recommendation\n",
    "recommend = generate_playlist_recos(songDF, complete_feature_set_playlist_vector, complete_feature_set_nonplaylist)\n",
    "recommend.head(10)"
   ]
  },
  {
   "cell_type": "code",
   "execution_count": 26,
   "id": "0072cf97-650b-42dc-bffa-d07c6ff11fbd",
   "metadata": {},
   "outputs": [
    {
     "data": {
      "text/plain": "                 artist_name            track_name\n4              Cold War Kids                 First\n5810                   WALLA                   101\n6107                Coldplay         The Scientist\n16233      Empire of the Sun    Walking On A Dream\n22666          Calvin Harris                 Slide\n26248           Charlie Puth             Attention\n26765  Red Hot Chili Peppers      Under The Bridge\n30804             Ed Sheeran               New Man\n30809             Ed Sheeran           Galway Girl\n31621      Empire of the Sun          High And Low\n31623            Linkin Park  Heavy (feat. Kiiara)\n31626                  BØRNS   Overnight Sensation\n31627               Coldplay           Army Of One\n31628             Ed Sheeran        Nancy Mulligan\n31632             Ed Sheeran                Eraser\n31634                  BØRNS           Faded Heart\n31637             Ed Sheeran               Perfect",
      "text/html": "<div>\n<style scoped>\n    .dataframe tbody tr th:only-of-type {\n        vertical-align: middle;\n    }\n\n    .dataframe tbody tr th {\n        vertical-align: top;\n    }\n\n    .dataframe thead th {\n        text-align: right;\n    }\n</style>\n<table border=\"1\" class=\"dataframe\">\n  <thead>\n    <tr style=\"text-align: right;\">\n      <th></th>\n      <th>artist_name</th>\n      <th>track_name</th>\n    </tr>\n  </thead>\n  <tbody>\n    <tr>\n      <th>4</th>\n      <td>Cold War Kids</td>\n      <td>First</td>\n    </tr>\n    <tr>\n      <th>5810</th>\n      <td>WALLA</td>\n      <td>101</td>\n    </tr>\n    <tr>\n      <th>6107</th>\n      <td>Coldplay</td>\n      <td>The Scientist</td>\n    </tr>\n    <tr>\n      <th>16233</th>\n      <td>Empire of the Sun</td>\n      <td>Walking On A Dream</td>\n    </tr>\n    <tr>\n      <th>22666</th>\n      <td>Calvin Harris</td>\n      <td>Slide</td>\n    </tr>\n    <tr>\n      <th>26248</th>\n      <td>Charlie Puth</td>\n      <td>Attention</td>\n    </tr>\n    <tr>\n      <th>26765</th>\n      <td>Red Hot Chili Peppers</td>\n      <td>Under The Bridge</td>\n    </tr>\n    <tr>\n      <th>30804</th>\n      <td>Ed Sheeran</td>\n      <td>New Man</td>\n    </tr>\n    <tr>\n      <th>30809</th>\n      <td>Ed Sheeran</td>\n      <td>Galway Girl</td>\n    </tr>\n    <tr>\n      <th>31621</th>\n      <td>Empire of the Sun</td>\n      <td>High And Low</td>\n    </tr>\n    <tr>\n      <th>31623</th>\n      <td>Linkin Park</td>\n      <td>Heavy (feat. Kiiara)</td>\n    </tr>\n    <tr>\n      <th>31626</th>\n      <td>BØRNS</td>\n      <td>Overnight Sensation</td>\n    </tr>\n    <tr>\n      <th>31627</th>\n      <td>Coldplay</td>\n      <td>Army Of One</td>\n    </tr>\n    <tr>\n      <th>31628</th>\n      <td>Ed Sheeran</td>\n      <td>Nancy Mulligan</td>\n    </tr>\n    <tr>\n      <th>31632</th>\n      <td>Ed Sheeran</td>\n      <td>Eraser</td>\n    </tr>\n    <tr>\n      <th>31634</th>\n      <td>BØRNS</td>\n      <td>Faded Heart</td>\n    </tr>\n    <tr>\n      <th>31637</th>\n      <td>Ed Sheeran</td>\n      <td>Perfect</td>\n    </tr>\n  </tbody>\n</table>\n</div>"
     },
     "execution_count": 26,
     "metadata": {},
     "output_type": "execute_result"
    }
   ],
   "source": [
    "playlistDF_test[[\"artist_name\",\"track_name\"]][:20]"
   ]
  },
  {
   "cell_type": "code",
   "execution_count": null,
   "id": "1d78a3af-3fdc-4910-9b55-807bea6776b9",
   "metadata": {},
   "outputs": [],
   "source": []
  }
 ],
 "metadata": {
  "kernelspec": {
   "display_name": "Python 3 (ipykernel)",
   "language": "python",
   "name": "python3"
  },
  "language_info": {
   "codemirror_mode": {
    "name": "ipython",
    "version": 3
   },
   "file_extension": ".py",
   "mimetype": "text/x-python",
   "name": "python",
   "nbconvert_exporter": "python",
   "pygments_lexer": "ipython3",
   "version": "3.12.0"
  }
 },
 "nbformat": 4,
 "nbformat_minor": 5
}
